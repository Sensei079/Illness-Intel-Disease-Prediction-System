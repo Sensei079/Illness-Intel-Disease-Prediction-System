{
  "nbformat": 4,
  "nbformat_minor": 0,
  "metadata": {
    "colab": {
      "provenance": []
    },
    "kernelspec": {
      "name": "python3",
      "display_name": "Python 3"
    },
    "language_info": {
      "name": "python"
    }
  },
  "cells": [
    {
      "cell_type": "code",
      "source": [
        "pip install gradio"
      ],
      "metadata": {
        "id": "8rV-7YKbKn_I",
        "colab": {
          "base_uri": "https://localhost:8080/"
        },
        "outputId": "bcc2bc24-831e-4ae6-f86e-92e93b203028"
      },
      "execution_count": 31,
      "outputs": [
        {
          "output_type": "stream",
          "name": "stdout",
          "text": [
            "Requirement already satisfied: gradio in /usr/local/lib/python3.10/dist-packages (5.1.0)\n",
            "Requirement already satisfied: aiofiles<24.0,>=22.0 in /usr/local/lib/python3.10/dist-packages (from gradio) (23.2.1)\n",
            "Requirement already satisfied: anyio<5.0,>=3.0 in /usr/local/lib/python3.10/dist-packages (from gradio) (3.7.1)\n",
            "Requirement already satisfied: fastapi<1.0 in /usr/local/lib/python3.10/dist-packages (from gradio) (0.115.2)\n",
            "Requirement already satisfied: ffmpy in /usr/local/lib/python3.10/dist-packages (from gradio) (0.4.0)\n",
            "Requirement already satisfied: gradio-client==1.4.0 in /usr/local/lib/python3.10/dist-packages (from gradio) (1.4.0)\n",
            "Requirement already satisfied: httpx>=0.24.1 in /usr/local/lib/python3.10/dist-packages (from gradio) (0.27.2)\n",
            "Requirement already satisfied: huggingface-hub>=0.25.1 in /usr/local/lib/python3.10/dist-packages (from gradio) (0.26.0)\n",
            "Requirement already satisfied: jinja2<4.0 in /usr/local/lib/python3.10/dist-packages (from gradio) (3.1.4)\n",
            "Requirement already satisfied: markupsafe~=2.0 in /usr/local/lib/python3.10/dist-packages (from gradio) (2.1.5)\n",
            "Requirement already satisfied: numpy<3.0,>=1.0 in /usr/local/lib/python3.10/dist-packages (from gradio) (1.26.4)\n",
            "Requirement already satisfied: orjson~=3.0 in /usr/local/lib/python3.10/dist-packages (from gradio) (3.10.9)\n",
            "Requirement already satisfied: packaging in /usr/local/lib/python3.10/dist-packages (from gradio) (24.1)\n",
            "Requirement already satisfied: pandas<3.0,>=1.0 in /usr/local/lib/python3.10/dist-packages (from gradio) (2.2.2)\n",
            "Requirement already satisfied: pillow<11.0,>=8.0 in /usr/local/lib/python3.10/dist-packages (from gradio) (10.4.0)\n",
            "Requirement already satisfied: pydantic>=2.0 in /usr/local/lib/python3.10/dist-packages (from gradio) (2.9.2)\n",
            "Requirement already satisfied: pydub in /usr/local/lib/python3.10/dist-packages (from gradio) (0.25.1)\n",
            "Requirement already satisfied: python-multipart>=0.0.9 in /usr/local/lib/python3.10/dist-packages (from gradio) (0.0.13)\n",
            "Requirement already satisfied: pyyaml<7.0,>=5.0 in /usr/local/lib/python3.10/dist-packages (from gradio) (6.0.2)\n",
            "Requirement already satisfied: ruff>=0.2.2 in /usr/local/lib/python3.10/dist-packages (from gradio) (0.7.0)\n",
            "Requirement already satisfied: semantic-version~=2.0 in /usr/local/lib/python3.10/dist-packages (from gradio) (2.10.0)\n",
            "Requirement already satisfied: tomlkit==0.12.0 in /usr/local/lib/python3.10/dist-packages (from gradio) (0.12.0)\n",
            "Requirement already satisfied: typer<1.0,>=0.12 in /usr/local/lib/python3.10/dist-packages (from gradio) (0.12.5)\n",
            "Requirement already satisfied: typing-extensions~=4.0 in /usr/local/lib/python3.10/dist-packages (from gradio) (4.12.2)\n",
            "Requirement already satisfied: uvicorn>=0.14.0 in /usr/local/lib/python3.10/dist-packages (from gradio) (0.32.0)\n",
            "Requirement already satisfied: fsspec in /usr/local/lib/python3.10/dist-packages (from gradio-client==1.4.0->gradio) (2024.6.1)\n",
            "Requirement already satisfied: websockets<13.0,>=10.0 in /usr/local/lib/python3.10/dist-packages (from gradio-client==1.4.0->gradio) (12.0)\n",
            "Requirement already satisfied: idna>=2.8 in /usr/local/lib/python3.10/dist-packages (from anyio<5.0,>=3.0->gradio) (3.10)\n",
            "Requirement already satisfied: sniffio>=1.1 in /usr/local/lib/python3.10/dist-packages (from anyio<5.0,>=3.0->gradio) (1.3.1)\n",
            "Requirement already satisfied: exceptiongroup in /usr/local/lib/python3.10/dist-packages (from anyio<5.0,>=3.0->gradio) (1.2.2)\n",
            "Requirement already satisfied: starlette<0.41.0,>=0.37.2 in /usr/local/lib/python3.10/dist-packages (from fastapi<1.0->gradio) (0.40.0)\n",
            "Requirement already satisfied: certifi in /usr/local/lib/python3.10/dist-packages (from httpx>=0.24.1->gradio) (2024.8.30)\n",
            "Requirement already satisfied: httpcore==1.* in /usr/local/lib/python3.10/dist-packages (from httpx>=0.24.1->gradio) (1.0.6)\n",
            "Requirement already satisfied: h11<0.15,>=0.13 in /usr/local/lib/python3.10/dist-packages (from httpcore==1.*->httpx>=0.24.1->gradio) (0.14.0)\n",
            "Requirement already satisfied: filelock in /usr/local/lib/python3.10/dist-packages (from huggingface-hub>=0.25.1->gradio) (3.16.1)\n",
            "Requirement already satisfied: requests in /usr/local/lib/python3.10/dist-packages (from huggingface-hub>=0.25.1->gradio) (2.32.3)\n",
            "Requirement already satisfied: tqdm>=4.42.1 in /usr/local/lib/python3.10/dist-packages (from huggingface-hub>=0.25.1->gradio) (4.66.5)\n",
            "Requirement already satisfied: python-dateutil>=2.8.2 in /usr/local/lib/python3.10/dist-packages (from pandas<3.0,>=1.0->gradio) (2.8.2)\n",
            "Requirement already satisfied: pytz>=2020.1 in /usr/local/lib/python3.10/dist-packages (from pandas<3.0,>=1.0->gradio) (2024.2)\n",
            "Requirement already satisfied: tzdata>=2022.7 in /usr/local/lib/python3.10/dist-packages (from pandas<3.0,>=1.0->gradio) (2024.2)\n",
            "Requirement already satisfied: annotated-types>=0.6.0 in /usr/local/lib/python3.10/dist-packages (from pydantic>=2.0->gradio) (0.7.0)\n",
            "Requirement already satisfied: pydantic-core==2.23.4 in /usr/local/lib/python3.10/dist-packages (from pydantic>=2.0->gradio) (2.23.4)\n",
            "Requirement already satisfied: click>=8.0.0 in /usr/local/lib/python3.10/dist-packages (from typer<1.0,>=0.12->gradio) (8.1.7)\n",
            "Requirement already satisfied: shellingham>=1.3.0 in /usr/local/lib/python3.10/dist-packages (from typer<1.0,>=0.12->gradio) (1.5.4)\n",
            "Requirement already satisfied: rich>=10.11.0 in /usr/local/lib/python3.10/dist-packages (from typer<1.0,>=0.12->gradio) (13.9.2)\n",
            "Requirement already satisfied: six>=1.5 in /usr/local/lib/python3.10/dist-packages (from python-dateutil>=2.8.2->pandas<3.0,>=1.0->gradio) (1.16.0)\n",
            "Requirement already satisfied: markdown-it-py>=2.2.0 in /usr/local/lib/python3.10/dist-packages (from rich>=10.11.0->typer<1.0,>=0.12->gradio) (3.0.0)\n",
            "Requirement already satisfied: pygments<3.0.0,>=2.13.0 in /usr/local/lib/python3.10/dist-packages (from rich>=10.11.0->typer<1.0,>=0.12->gradio) (2.18.0)\n",
            "Requirement already satisfied: charset-normalizer<4,>=2 in /usr/local/lib/python3.10/dist-packages (from requests->huggingface-hub>=0.25.1->gradio) (3.4.0)\n",
            "Requirement already satisfied: urllib3<3,>=1.21.1 in /usr/local/lib/python3.10/dist-packages (from requests->huggingface-hub>=0.25.1->gradio) (2.2.3)\n",
            "Requirement already satisfied: mdurl~=0.1 in /usr/local/lib/python3.10/dist-packages (from markdown-it-py>=2.2.0->rich>=10.11.0->typer<1.0,>=0.12->gradio) (0.1.2)\n"
          ]
        }
      ]
    },
    {
      "cell_type": "code",
      "source": [
        "pip install fpdf"
      ],
      "metadata": {
        "id": "u8vA6MQvcRVg"
      },
      "execution_count": null,
      "outputs": []
    },
    {
      "cell_type": "code",
      "source": [
        "import pandas as pd\n",
        "import seaborn as sns\n",
        "import matplotlib.pyplot as plt\n",
        "from sklearn.preprocessing import LabelEncoder\n",
        "from sklearn.model_selection import train_test_split, GridSearchCV\n",
        "from sklearn.ensemble import RandomForestClassifier\n",
        "from sklearn.metrics import accuracy_score, classification_report, confusion_matrix\n",
        "import gradio as gr\n",
        "from fpdf import FPDF\n",
        "import os"
      ],
      "metadata": {
        "id": "BH0d6w_eCNJB"
      },
      "execution_count": null,
      "outputs": []
    },
    {
      "cell_type": "code",
      "source": [
        "import warnings\n",
        "warnings.filterwarnings('ignore')"
      ],
      "metadata": {
        "id": "HshTcms3CG2l"
      },
      "execution_count": null,
      "outputs": []
    },
    {
      "cell_type": "code",
      "source": [
        "# Load and preprocess the data\n",
        "data = pd.read_csv('dataset.csv')\n",
        "description_data = pd.read_csv('symptom_Description.csv')\n",
        "precaution_data = pd.read_csv('symptom_precaution.csv')\n",
        "data.fillna('unknown', inplace=True)"
      ],
      "metadata": {
        "id": "jdNzdNY3CKc8"
      },
      "execution_count": null,
      "outputs": []
    },
    {
      "cell_type": "code",
      "source": [
        "data.shape"
      ],
      "metadata": {
        "id": "gq9c03QTCN9f"
      },
      "execution_count": null,
      "outputs": []
    },
    {
      "cell_type": "code",
      "source": [
        "data.head()"
      ],
      "metadata": {
        "id": "jdftZTShCSHh"
      },
      "execution_count": null,
      "outputs": []
    },
    {
      "cell_type": "code",
      "source": [
        "data.isnull().sum()"
      ],
      "metadata": {
        "id": "vFeFmuBbCVq8"
      },
      "execution_count": null,
      "outputs": []
    },
    {
      "cell_type": "code",
      "source": [
        "data.info()"
      ],
      "metadata": {
        "id": "adaIbAF2CWPV"
      },
      "execution_count": null,
      "outputs": []
    },
    {
      "cell_type": "code",
      "source": [
        "# Lowercase, strip, and replace underscores for consistency\n",
        "for col in data.columns[1:]:\n",
        "    data[col] = data[col].str.lower().str.strip().str.replace('_', ' ')"
      ],
      "metadata": {
        "id": "G7ZYmQZ9CYRl"
      },
      "execution_count": null,
      "outputs": []
    },
    {
      "cell_type": "code",
      "source": [
        "data.head()"
      ],
      "metadata": {
        "id": "F4SskAqmt3dm"
      },
      "execution_count": null,
      "outputs": []
    },
    {
      "cell_type": "code",
      "source": [
        "plt.figure(figsize=(12, 12))\n",
        "sns.countplot(y='Disease', data=data, order=data['Disease'].value_counts().index)\n",
        "plt.title('Disease Distribution')\n",
        "plt.show()"
      ],
      "metadata": {
        "id": "8Z9WhTgctRN3"
      },
      "execution_count": null,
      "outputs": []
    },
    {
      "cell_type": "code",
      "source": [
        "#To understand the correlation between different symptoms and the disease.\n",
        "\n",
        "encoded_data = data.copy()\n",
        "label_encoder = LabelEncoder()\n",
        "for col in encoded_data.columns:\n",
        "    encoded_data[col] = label_encoder.fit_transform(encoded_data[col])\n",
        "\n",
        "plt.figure(figsize=(16, 12))\n",
        "sns.heatmap(encoded_data.corr(), annot=True, fmt='.2f', cmap='coolwarm', cbar=True)\n",
        "plt.title('Correlation Matrix of Features')\n",
        "plt.show()"
      ],
      "metadata": {
        "id": "-IJjiQS4tkUt"
      },
      "execution_count": null,
      "outputs": []
    },
    {
      "cell_type": "code",
      "source": [
        "#Distribution of each symptom to see how they are spread across the dataset.\n",
        "for col in data.columns[1:]:\n",
        "    plt.figure(figsize=(10, 6))\n",
        "    sns.histplot(data[col], kde=False, bins=30)\n",
        "    plt.title(f'Distribution of {col}')\n",
        "    plt.xlabel(col)\n",
        "    plt.ylabel('Frequency')\n",
        "    plt.show()"
      ],
      "metadata": {
        "id": "4rKqyX7Fto6A"
      },
      "execution_count": null,
      "outputs": []
    },
    {
      "cell_type": "code",
      "source": [
        "# Identify symptom columns (assume 'Disease' is the first column)\n",
        "symptom_columns = data.columns[1:]\n",
        "\n",
        "# Gather all unique symptoms across all symptom columns\n",
        "unique_symptoms = pd.Series(data[symptom_columns].values.ravel()).dropna().unique()\n",
        "symptom_to_number = {symptom: num for num, symptom in enumerate(unique_symptoms, start=101)}\n",
        "\n",
        "# Print all unique values\n",
        "print(\"Unique values from the entire dataset:\")\n",
        "for value in unique_symptoms:\n",
        "    print(value)"
      ],
      "metadata": {
        "id": "4Wh91YY6DFub"
      },
      "execution_count": null,
      "outputs": []
    },
    {
      "cell_type": "code",
      "source": [
        "# Create a dictionary to map each unique symptom to a unique number starting from 101\n",
        "symptom_to_number = {symptom: num for num, symptom in enumerate(unique_symptoms, start=101)}\n",
        "\n",
        "# Replace symptoms in the symptom columns with their corresponding unique numbers\n",
        "for col in symptom_columns:\n",
        "    data[col] = data[col].map(symptom_to_number).fillna(0).astype(int)\n",
        "\n",
        "# Print the dictionary of unique symptoms and their corresponding numbers\n",
        "print(\"Unique symptoms and their corresponding numbers:\")\n",
        "for symptom, number in symptom_to_number.items():\n",
        "    print(f\"{symptom}: {number}\")"
      ],
      "metadata": {
        "id": "QULz9qivDJLj"
      },
      "execution_count": null,
      "outputs": []
    },
    {
      "cell_type": "code",
      "source": [
        "# Encode the 'Disease' column\n",
        "label_encoder = LabelEncoder()\n",
        "data['Disease'] = label_encoder.fit_transform(data['Disease'])"
      ],
      "metadata": {
        "id": "ArU1iwJvDPbb"
      },
      "execution_count": null,
      "outputs": []
    },
    {
      "cell_type": "code",
      "source": [
        "# Get the mapping of each distinct disease to its encoded value\n",
        "disease_mapping = dict(zip(label_encoder.classes_, label_encoder.transform(label_encoder.classes_)))\n",
        "\n",
        "# Print all the distinct diseases with their encoded values\n",
        "for disease, encoding in disease_mapping.items():\n",
        "    print(f\"{disease}: {encoding}\")"
      ],
      "metadata": {
        "id": "20OUn2ndFbew"
      },
      "execution_count": null,
      "outputs": []
    },
    {
      "cell_type": "code",
      "source": [
        "# Prepare training and test sets\n",
        "X = data[data.columns[1:]]\n",
        "y = data['Disease']\n",
        "X_train, X_test, y_train, y_test = train_test_split(X, y, test_size=0.2, random_state=42)"
      ],
      "metadata": {
        "id": "Yma0WemRGrvR"
      },
      "execution_count": null,
      "outputs": []
    },
    {
      "cell_type": "code",
      "source": [
        "# Parameter grid for Random Forest\n",
        "param_grid = {\n",
        "    'n_estimators': [100, 200, 300],\n",
        "    'max_depth': [None, 10, 20, 30],\n",
        "    'min_samples_split': [2, 5, 10],\n",
        "    'min_samples_leaf': [1, 2, 4],\n",
        "    'bootstrap': [True, False]\n",
        "}\n",
        "\n",
        "# Initialize Random Forest model\n",
        "rf = RandomForestClassifier(random_state=42)\n",
        "\n",
        "# GridSearchCV for parameter tuning\n",
        "grid_search = GridSearchCV(estimator=rf, param_grid=param_grid, cv=5, n_jobs=-1, verbose=2)\n",
        "grid_search.fit(X_train, y_train)\n",
        "\n",
        "# Best parameters found\n",
        "best_params = grid_search.best_params_\n",
        "print(f\"Best Parameters: {best_params}\")\n",
        "\n",
        "# Train the model with the best parameters\n",
        "best_rf_model = RandomForestClassifier(**best_params, random_state=42)\n",
        "best_rf_model.fit(X_train, y_train)\n",
        "\n",
        "# Predict and evaluate\n",
        "y_pred_rf = best_rf_model.predict(X_test)\n",
        "print(f\"Accuracy: {accuracy_score(y_test, y_pred_rf)}\")\n",
        "print(f\"Confusion Matrix:\\n{confusion_matrix(y_test, y_pred_rf)}\")\n",
        "print(f\"Classification Report:\\n{classification_report(y_test, y_pred_rf)}\")\n",
        "\n",
        "# Confidence Score\n",
        "def get_confidence_score(symptoms_encoded):\n",
        "    proba = best_rf_model.predict_proba(symptoms_encoded)\n",
        "    confidence_score = round(max(proba[0]) * 100, 2)\n",
        "    return confidence_score\n",
        "\n",
        "    # PDF export\n",
        "def export_to_pdf(symptoms, prediction, confidence_score, description, precaution):\n",
        "    pdf = FPDF(format='A4')  # Standard A4 size for more space\n",
        "    pdf.add_page()\n",
        "\n",
        "    # Set title font and size\n",
        "    pdf.set_font(\"Arial\", style='B', size=16)\n",
        "    pdf.cell(200, 10, txt=\"Disease Prediction Report\", ln=True, align='C')\n",
        "    pdf.ln(10)  # Add a blank line for spacing\n",
        "\n",
        "    # Increase margin for neatness\n",
        "    pdf.set_left_margin(15)\n",
        "    pdf.set_right_margin(15)\n",
        "\n",
        "    # Change to regular font for content\n",
        "    pdf.set_font(\"Arial\", size=12)\n",
        "\n",
        "    # Define a function to wrap long text in the PDF\n",
        "    def multi_line_text(label, content):\n",
        "        pdf.set_font(\"Arial\", style='B', size=12)\n",
        "        pdf.cell(0, 10, label, ln=True)\n",
        "        pdf.set_font(\"Arial\", size=12)\n",
        "        pdf.multi_cell(0, 10, content)\n",
        "        pdf.ln(2)  # Small space after each section\n",
        "\n",
        "    # Adding sections with wrapping and spacing\n",
        "    multi_line_text(\"Symptoms:\", symptoms)\n",
        "    multi_line_text(\"Predicted Disease:\", prediction)\n",
        "    multi_line_text(\"Confidence Score:\", f\"{confidence_score}%\")\n",
        "    multi_line_text(\"Disease Description:\", description)\n",
        "    multi_line_text(\"Precaution:\", precaution)\n",
        "\n",
        "    # Output PDF with a specific filename\n",
        "    pdf_output = \"disease_prediction_report.pdf\"\n",
        "    pdf.output(pdf_output)\n",
        "    return pdf_output\n",
        "\n",
        "# Dictionaries for descriptions and precautions\n",
        "disease_descriptions = dict(zip(description_data['Disease'].str.lower(), description_data['Description']))\n",
        "disease_precautions = dict(zip(precaution_data['Disease'].str.lower(), precaution_data[['Precaution_1', 'Precaution_2', 'Precaution_3', 'Precaution_4']].apply(lambda x: ', '.join(x.fillna('')), axis=1)))\n",
        "\n",
        "def get_disease_description(disease):\n",
        "    return disease_descriptions.get(disease.lower(), \"No description available.\")\n",
        "\n",
        "def get_disease_precaution(disease):\n",
        "    return disease_precautions.get(disease.lower(), \"No precaution available.\")"
      ],
      "metadata": {
        "id": "arFKmBXkTwyZ"
      },
      "execution_count": null,
      "outputs": []
    },
    {
      "cell_type": "code",
      "source": [
        "# Disease prediction\n",
        "def predict_disease(symptoms_input):\n",
        "    symptoms = symptoms_input.lower().split(\",\")\n",
        "    symptoms = [symptom.strip() for symptom in symptoms]\n",
        "\n",
        "    max_symptoms = 17\n",
        "    symptoms = symptoms[:max_symptoms] + [\"unknown\"] * (max_symptoms - len(symptoms))\n",
        "\n",
        "    symptoms_encoded = pd.DataFrame(0, index=[0], columns=X.columns)\n",
        "    for i, symptom in enumerate(symptoms):\n",
        "        if symptom in symptom_to_number:\n",
        "            symptoms_encoded.iloc[0, i] = symptom_to_number[symptom]\n",
        "\n",
        "    prediction = best_rf_model.predict(symptoms_encoded)[0]\n",
        "    disease = label_encoder.inverse_transform([prediction])[0]\n",
        "\n",
        "    confidence_score = get_confidence_score(symptoms_encoded)\n",
        "    disease_description = get_disease_description(disease)\n",
        "    disease_precaution = get_disease_precaution(disease)\n",
        "\n",
        "    pdf_file = export_to_pdf(symptoms_input, disease, confidence_score, disease_description, disease_precaution)\n",
        "    return disease, confidence_score, disease_description, disease_precaution, pdf_file\n",
        "\n",
        "# Gradio Interface\n",
        "def interface():\n",
        "    with gr.Blocks() as interface:\n",
        "        gr.Markdown(\"## Illness Intel: Disease Prediction System\")\n",
        "\n",
        "        symptom_input = gr.Textbox(label=\"Enter symptoms (separated by commas)\", lines=2, placeholder=\"e.g., cough, fever, headache\")\n",
        "        prediction_output = gr.Textbox(label=\"Predicted Disease\", interactive=False)\n",
        "        confidence_output = gr.Textbox(label=\"Confidence Score (%)\", interactive=False)\n",
        "        description_output = gr.Textbox(label=\"Disease Description\", interactive=False)\n",
        "        precaution_output = gr.Textbox(label=\"Precaution\", interactive=False)\n",
        "        pdf_output = gr.File(label=\"Download Prediction Report (PDF)\", interactive=False)\n",
        "\n",
        "        def real_time_prediction(symptoms):\n",
        "            if symptoms:\n",
        "                prediction, confidence, description, precaution = predict_disease(symptoms)[:-1]\n",
        "                return prediction, confidence, description, precaution\n",
        "            return \"\", \"\", \"\", \"\"\n",
        "\n",
        "        symptom_input.change(real_time_prediction, inputs=symptom_input, outputs=[prediction_output, confidence_output, description_output, precaution_output])\n",
        "\n",
        "        def submit(symptoms):\n",
        "            prediction, confidence, description, precaution, pdf_file = predict_disease(symptoms)\n",
        "            return prediction, confidence, description, precaution, pdf_file\n",
        "\n",
        "        gr.Button(\"Submit\").click(submit, inputs=symptom_input, outputs=[prediction_output, confidence_output, description_output, precaution_output, pdf_output])\n",
        "\n",
        "        def clear_fields():\n",
        "            return \"\", \"\", \"\", \"\", None\n",
        "\n",
        "        gr.Button(\"Clear\").click(clear_fields, inputs=[], outputs=[symptom_input, prediction_output, confidence_output, description_output, precaution_output, pdf_output])\n",
        "\n",
        "    return interface\n",
        "\n",
        "# Launch the Gradio interface\n",
        "interface().launch()\n"
      ],
      "metadata": {
        "id": "VViZTePjlZxp"
      },
      "execution_count": null,
      "outputs": []
    }
  ]
}